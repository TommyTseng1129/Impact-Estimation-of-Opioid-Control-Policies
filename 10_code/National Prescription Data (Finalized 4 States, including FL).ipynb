{
 "cells": [
  {
   "cell_type": "code",
   "execution_count": 1,
   "metadata": {},
   "outputs": [],
   "source": [
    "# Import pandas and numpy\n",
    "import pandas as pd\n",
    "import numpy as np"
   ]
  },
  {
   "cell_type": "code",
   "execution_count": 2,
   "metadata": {},
   "outputs": [],
   "source": [
    "# Read in the entire .tsv, with chunk size equal to 100000\n",
    "national = pd.read_csv('/Users/lin-chuntseng/Desktop/arcos_all_washpost.tsv', sep='\\t', chunksize = 100000 , low_memory=False)\n",
    "\n",
    "# Extract rows that are from the chosen states\n",
    "keepers = list()\n",
    "\n",
    "# We choose 7 states for the first time (AL was wrongly picked...)\n",
    "states = ['GA', 'AR', 'MS', 'SC', 'LA', 'NC', 'AL','FL']\n",
    "\n",
    "# We chose 10 states for the second time to find similar-slope states before policy implementation\n",
    "states2 = [ 'GA', 'AR', 'MS', 'MI', 'TN', 'NC', 'NH', 'IA','IL', 'FL']\n",
    "\n",
    "# The finalized 4 chosen states for opioid shipment analysis\n",
    "states3 = [ 'AR','TN','FL','GA' ]\n",
    "for i in national:\n",
    "    test = i['BUYER_STATE'].isin(states3)\n",
    "    rows_to_keep = i.loc[test]\n",
    "    keepers.append(rows_to_keep)\n",
    "new_df = pd.concat(keepers)"
   ]
  },
  {
   "cell_type": "code",
   "execution_count": 3,
   "metadata": {},
   "outputs": [
    {
     "data": {
      "text/plain": [
       "array(['FL', 'AR', 'TN', 'GA'], dtype=object)"
      ]
     },
     "execution_count": 3,
     "metadata": {},
     "output_type": "execute_result"
    }
   ],
   "source": [
    "# Quick display of BUER_STATE column, making sure new_df only contains the chosen 4 states\n",
    "new_df['BUYER_STATE'].unique()"
   ]
  },
  {
   "cell_type": "code",
   "execution_count": 4,
   "metadata": {},
   "outputs": [],
   "source": [
    "# Add a YEAR column by extracting the last 4 digit from TRANSACTION_DATE\n",
    "new_df['YEAR'] = new_df['TRANSACTION_DATE'].astype('str').str[-4:]"
   ]
  },
  {
   "cell_type": "code",
   "execution_count": 5,
   "metadata": {},
   "outputs": [
    {
     "data": {
      "text/plain": [
       "array(['2006', '2007', '2009', '2011', '2008', '2010', '2012'],\n",
       "      dtype=object)"
      ]
     },
     "execution_count": 5,
     "metadata": {},
     "output_type": "execute_result"
    }
   ],
   "source": [
    "# Quick display of the YEAR column, making sure new_df only contains year from 2006-2012\n",
    "new_df['YEAR'].unique()"
   ]
  },
  {
   "cell_type": "code",
   "execution_count": 6,
   "metadata": {},
   "outputs": [],
   "source": [
    "# Add a Total_Weight column that is the multiple of MME_Conversion_Factor and CALC_BASE_WT_IN_GM\n",
    "new_df['Total_Weight'] = new_df['MME_Conversion_Factor'] * new_df['CALC_BASE_WT_IN_GM']"
   ]
  },
  {
   "cell_type": "code",
   "execution_count": 29,
   "metadata": {},
   "outputs": [],
   "source": [
    "# Keep necessary columns for the dataframe\n",
    "necessary_col = ['BUYER_COUNTY','BUYER_STATE', 'YEAR','Total_Weight']\n",
    "\n",
    "# Rename the trimmed new_df as prescription\n",
    "prescription = new_df[necessary_col]\n"
   ]
  },
  {
   "cell_type": "code",
   "execution_count": 30,
   "metadata": {},
   "outputs": [
    {
     "data": {
      "text/html": [
       "<div>\n",
       "<style scoped>\n",
       "    .dataframe tbody tr th:only-of-type {\n",
       "        vertical-align: middle;\n",
       "    }\n",
       "\n",
       "    .dataframe tbody tr th {\n",
       "        vertical-align: top;\n",
       "    }\n",
       "\n",
       "    .dataframe thead th {\n",
       "        text-align: right;\n",
       "    }\n",
       "</style>\n",
       "<table border=\"1\" class=\"dataframe\">\n",
       "  <thead>\n",
       "    <tr style=\"text-align: right;\">\n",
       "      <th></th>\n",
       "      <th>BUYER_COUNTY</th>\n",
       "      <th>BUYER_STATE</th>\n",
       "      <th>YEAR</th>\n",
       "      <th>Total_Weight</th>\n",
       "    </tr>\n",
       "  </thead>\n",
       "  <tbody>\n",
       "    <tr>\n",
       "      <th>4745</th>\n",
       "      <td>PALM BEACH</td>\n",
       "      <td>FL</td>\n",
       "      <td>2006</td>\n",
       "      <td>5.3790</td>\n",
       "    </tr>\n",
       "    <tr>\n",
       "      <th>4746</th>\n",
       "      <td>PALM BEACH</td>\n",
       "      <td>FL</td>\n",
       "      <td>2006</td>\n",
       "      <td>10.7580</td>\n",
       "    </tr>\n",
       "    <tr>\n",
       "      <th>4747</th>\n",
       "      <td>PALM BEACH</td>\n",
       "      <td>FL</td>\n",
       "      <td>2007</td>\n",
       "      <td>32.2740</td>\n",
       "    </tr>\n",
       "    <tr>\n",
       "      <th>4748</th>\n",
       "      <td>PALM BEACH</td>\n",
       "      <td>FL</td>\n",
       "      <td>2007</td>\n",
       "      <td>32.2740</td>\n",
       "    </tr>\n",
       "    <tr>\n",
       "      <th>4749</th>\n",
       "      <td>PALM BEACH</td>\n",
       "      <td>FL</td>\n",
       "      <td>2007</td>\n",
       "      <td>8.0685</td>\n",
       "    </tr>\n",
       "    <tr>\n",
       "      <th>4750</th>\n",
       "      <td>PALM BEACH</td>\n",
       "      <td>FL</td>\n",
       "      <td>2007</td>\n",
       "      <td>48.4110</td>\n",
       "    </tr>\n",
       "    <tr>\n",
       "      <th>4801</th>\n",
       "      <td>HERNANDO</td>\n",
       "      <td>FL</td>\n",
       "      <td>2006</td>\n",
       "      <td>3.0270</td>\n",
       "    </tr>\n",
       "    <tr>\n",
       "      <th>4802</th>\n",
       "      <td>HERNANDO</td>\n",
       "      <td>FL</td>\n",
       "      <td>2006</td>\n",
       "      <td>3.0270</td>\n",
       "    </tr>\n",
       "    <tr>\n",
       "      <th>4891</th>\n",
       "      <td>PINELLAS</td>\n",
       "      <td>FL</td>\n",
       "      <td>2007</td>\n",
       "      <td>2.6895</td>\n",
       "    </tr>\n",
       "    <tr>\n",
       "      <th>4892</th>\n",
       "      <td>PINELLAS</td>\n",
       "      <td>FL</td>\n",
       "      <td>2007</td>\n",
       "      <td>5.3790</td>\n",
       "    </tr>\n",
       "  </tbody>\n",
       "</table>\n",
       "</div>"
      ],
      "text/plain": [
       "     BUYER_COUNTY BUYER_STATE  YEAR  Total_Weight\n",
       "4745   PALM BEACH          FL  2006        5.3790\n",
       "4746   PALM BEACH          FL  2006       10.7580\n",
       "4747   PALM BEACH          FL  2007       32.2740\n",
       "4748   PALM BEACH          FL  2007       32.2740\n",
       "4749   PALM BEACH          FL  2007        8.0685\n",
       "4750   PALM BEACH          FL  2007       48.4110\n",
       "4801     HERNANDO          FL  2006        3.0270\n",
       "4802     HERNANDO          FL  2006        3.0270\n",
       "4891     PINELLAS          FL  2007        2.6895\n",
       "4892     PINELLAS          FL  2007        5.3790"
      ]
     },
     "execution_count": 30,
     "metadata": {},
     "output_type": "execute_result"
    }
   ],
   "source": [
    "# Quick display of the first 10 rows of prescription dataframe, making sure we only have 4 columns\n",
    "prescription.head(10)"
   ]
  },
  {
   "cell_type": "code",
   "execution_count": 31,
   "metadata": {},
   "outputs": [
    {
     "data": {
      "text/plain": [
       "(26577645, 4)"
      ]
     },
     "execution_count": 31,
     "metadata": {},
     "output_type": "execute_result"
    }
   ],
   "source": [
    "# Quick display of the size of prescription dataframe (26577645)\n",
    "prescription.shape"
   ]
  },
  {
   "cell_type": "code",
   "execution_count": 32,
   "metadata": {},
   "outputs": [
    {
     "data": {
      "text/plain": [
       "BUYER_COUNTY    130\n",
       "BUYER_STATE       0\n",
       "YEAR              0\n",
       "Total_Weight      0\n",
       "dtype: int64"
      ]
     },
     "execution_count": 32,
     "metadata": {},
     "output_type": "execute_result"
    }
   ],
   "source": [
    "# We have 130 missing counties\n",
    "prescription.isnull().sum()"
   ]
  },
  {
   "cell_type": "code",
   "execution_count": 39,
   "metadata": {},
   "outputs": [
    {
     "data": {
      "text/plain": [
       "26577515"
      ]
     },
     "execution_count": 39,
     "metadata": {},
     "output_type": "execute_result"
    }
   ],
   "source": [
    "# Checking total number of counties that are not missing (26577515), so we have around 0.000489% missing counties (130/26577645)\n",
    "sum(prescription['BUYER_COUNTY'].value_counts())"
   ]
  },
  {
   "cell_type": "code",
   "execution_count": 40,
   "metadata": {},
   "outputs": [
    {
     "data": {
      "text/html": [
       "<div>\n",
       "<style scoped>\n",
       "    .dataframe tbody tr th:only-of-type {\n",
       "        vertical-align: middle;\n",
       "    }\n",
       "\n",
       "    .dataframe tbody tr th {\n",
       "        vertical-align: top;\n",
       "    }\n",
       "\n",
       "    .dataframe thead th {\n",
       "        text-align: right;\n",
       "    }\n",
       "</style>\n",
       "<table border=\"1\" class=\"dataframe\">\n",
       "  <thead>\n",
       "    <tr style=\"text-align: right;\">\n",
       "      <th></th>\n",
       "      <th>BUYER_COUNTY</th>\n",
       "      <th>BUYER_STATE</th>\n",
       "      <th>YEAR</th>\n",
       "      <th>Total_Weight</th>\n",
       "    </tr>\n",
       "  </thead>\n",
       "  <tbody>\n",
       "  </tbody>\n",
       "</table>\n",
       "</div>"
      ],
      "text/plain": [
       "Empty DataFrame\n",
       "Columns: [BUYER_COUNTY, BUYER_STATE, YEAR, Total_Weight]\n",
       "Index: []"
      ]
     },
     "execution_count": 40,
     "metadata": {},
     "output_type": "execute_result"
    }
   ],
   "source": [
    "# Trying to figure out why we have missing values, and their corresponding patterns (Null doesnt work...)\n",
    "prescription.loc[prescription['BUYER_COUNTY'] == 'Null']"
   ]
  },
  {
   "cell_type": "code",
   "execution_count": 41,
   "metadata": {},
   "outputs": [
    {
     "data": {
      "text/html": [
       "<div>\n",
       "<style scoped>\n",
       "    .dataframe tbody tr th:only-of-type {\n",
       "        vertical-align: middle;\n",
       "    }\n",
       "\n",
       "    .dataframe tbody tr th {\n",
       "        vertical-align: top;\n",
       "    }\n",
       "\n",
       "    .dataframe thead th {\n",
       "        text-align: right;\n",
       "    }\n",
       "</style>\n",
       "<table border=\"1\" class=\"dataframe\">\n",
       "  <thead>\n",
       "    <tr style=\"text-align: right;\">\n",
       "      <th></th>\n",
       "      <th>BUYER_COUNTY</th>\n",
       "      <th>BUYER_STATE</th>\n",
       "      <th>YEAR</th>\n",
       "      <th>Total_Weight</th>\n",
       "    </tr>\n",
       "  </thead>\n",
       "  <tbody>\n",
       "  </tbody>\n",
       "</table>\n",
       "</div>"
      ],
      "text/plain": [
       "Empty DataFrame\n",
       "Columns: [BUYER_COUNTY, BUYER_STATE, YEAR, Total_Weight]\n",
       "Index: []"
      ]
     },
     "execution_count": 41,
     "metadata": {},
     "output_type": "execute_result"
    }
   ],
   "source": [
    "# Trying to figure out why we have missing values, and their corresponding patterns  (np.nan doesnt work...)\n",
    "prescription.loc[prescription['BUYER_COUNTY'] == np.nan]"
   ]
  },
  {
   "cell_type": "code",
   "execution_count": 42,
   "metadata": {},
   "outputs": [
    {
     "data": {
      "text/html": [
       "<div>\n",
       "<style scoped>\n",
       "    .dataframe tbody tr th:only-of-type {\n",
       "        vertical-align: middle;\n",
       "    }\n",
       "\n",
       "    .dataframe tbody tr th {\n",
       "        vertical-align: top;\n",
       "    }\n",
       "\n",
       "    .dataframe thead th {\n",
       "        text-align: right;\n",
       "    }\n",
       "</style>\n",
       "<table border=\"1\" class=\"dataframe\">\n",
       "  <thead>\n",
       "    <tr style=\"text-align: right;\">\n",
       "      <th></th>\n",
       "      <th>BUYER_COUNTY</th>\n",
       "      <th>BUYER_STATE</th>\n",
       "      <th>YEAR</th>\n",
       "      <th>Total_Weight</th>\n",
       "    </tr>\n",
       "  </thead>\n",
       "  <tbody>\n",
       "  </tbody>\n",
       "</table>\n",
       "</div>"
      ],
      "text/plain": [
       "Empty DataFrame\n",
       "Columns: [BUYER_COUNTY, BUYER_STATE, YEAR, Total_Weight]\n",
       "Index: []"
      ]
     },
     "execution_count": 42,
     "metadata": {},
     "output_type": "execute_result"
    }
   ],
   "source": [
    "# Trying to figure out why we have missing values, and their corresponding patterns  (None doesnt work...)\n",
    "prescription.loc[prescription['BUYER_COUNTY'] == None]"
   ]
  },
  {
   "cell_type": "code",
   "execution_count": 43,
   "metadata": {},
   "outputs": [
    {
     "data": {
      "text/plain": [
       "BUYER_COUNTY    0\n",
       "BUYER_STATE     0\n",
       "YEAR            0\n",
       "Total_Weight    0\n",
       "dtype: int64"
      ]
     },
     "execution_count": 43,
     "metadata": {},
     "output_type": "execute_result"
    }
   ],
   "source": [
    "# Since the percentage of missing values are and I really can't find those missing rows by subsetting\n",
    "# I will simply drop the missing counties and move on\n",
    "\n",
    "prescription = prescription.dropna()\n",
    "prescription.isnull().sum()"
   ]
  },
  {
   "cell_type": "code",
   "execution_count": 44,
   "metadata": {},
   "outputs": [],
   "source": [
    "# GroupBy State, county, year\n",
    "prescription = prescription.groupby(['BUYER_STATE','BUYER_COUNTY','YEAR'], as_index=False).sum()"
   ]
  },
  {
   "cell_type": "code",
   "execution_count": 45,
   "metadata": {},
   "outputs": [
    {
     "data": {
      "text/plain": [
       "(2711, 4)"
      ]
     },
     "execution_count": 45,
     "metadata": {},
     "output_type": "execute_result"
    }
   ],
   "source": [
    "# Check the size of prescription after performing groupBy (2711 rows, 4 columns)\n",
    "prescription.shape"
   ]
  },
  {
   "cell_type": "code",
   "execution_count": 46,
   "metadata": {},
   "outputs": [],
   "source": [
    "# Export prescription to a .csv for later use\n",
    "prescription.to_csv(r'/Users/lin-chuntseng/Desktop/2006-2012_prescription_finalStates.csv', index = False, header = True)"
   ]
  }
 ],
 "metadata": {
  "kernelspec": {
   "display_name": "Python 3",
   "language": "python",
   "name": "python3"
  },
  "language_info": {
   "codemirror_mode": {
    "name": "ipython",
    "version": 3
   },
   "file_extension": ".py",
   "mimetype": "text/x-python",
   "name": "python",
   "nbconvert_exporter": "python",
   "pygments_lexer": "ipython3",
   "version": "3.8.3"
  }
 },
 "nbformat": 4,
 "nbformat_minor": 4
}
