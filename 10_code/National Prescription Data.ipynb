{
 "cells": [
  {
   "cell_type": "code",
   "execution_count": 51,
   "metadata": {},
   "outputs": [],
   "source": [
    "# Import pandas and numpy\n",
    "import pandas as pd\n",
    "import numpy as np"
   ]
  },
  {
   "cell_type": "code",
   "execution_count": 11,
   "metadata": {},
   "outputs": [],
   "source": [
    "# Read in the entire .tsv, with chunk size equal t0 100000\n",
    "national = pd.read_csv('/Users/lin-chuntseng/Desktop/arcos_all_washpost.tsv', sep='\\t', chunksize = 100000 , low_memory=False)\n",
    "\n",
    "# Extract rows that are from the chosen states\n",
    "keepers = list()\n",
    "states = ['GA', 'AL', 'MS', 'SC', 'LA', 'NC', 'AR','FL']\n",
    "for i in national:\n",
    "    test = i['BUYER_STATE'].isin(states)\n",
    "    rows_to_keep = i.loc[test]\n",
    "    keepers.append(rows_to_keep)\n",
    "new_df = pd.concat(keepers)"
   ]
  },
  {
   "cell_type": "code",
   "execution_count": 93,
   "metadata": {},
   "outputs": [],
   "source": [
    "# Add a YEAR column by extracting the last 4 digit from TRANSACTION_DATE\n",
    "new_df['YEAR'] = new_df['TRANSACTION_DATE'].astype('str').str[-4:]"
   ]
  },
  {
   "cell_type": "code",
   "execution_count": 96,
   "metadata": {},
   "outputs": [],
   "source": [
    "# Add a Total_Weight column that is the multiple of MME_Conversion_Factor and CALC_BASE_WT_IN_GM\n",
    "new_df['Total_Weight'] = new_df['MME_Conversion_Factor'] * new_df['CALC_BASE_WT_IN_GM']"
   ]
  },
  {
   "cell_type": "code",
   "execution_count": 206,
   "metadata": {},
   "outputs": [],
   "source": [
    "# Keep necessary columns for the dataframe\n",
    "necessary_col = ['BUYER_COUNTY','BUYER_STATE', 'YEAR','Total_Weight']\n",
    "\n",
    "# Rename the trimmed new_df as prescription\n",
    "prescription = new_df[necessary_col]\n"
   ]
  },
  {
   "cell_type": "code",
   "execution_count": 207,
   "metadata": {
    "scrolled": false
   },
   "outputs": [
    {
     "data": {
      "text/plain": [
       "BUYER_COUNTY    130\n",
       "BUYER_STATE       0\n",
       "YEAR              0\n",
       "Total_Weight      0\n",
       "dtype: int64"
      ]
     },
     "execution_count": 207,
     "metadata": {},
     "output_type": "execute_result"
    }
   ],
   "source": [
    "# We have 130 missing counties\n",
    "prescription.isnull().sum()"
   ]
  },
  {
   "cell_type": "code",
   "execution_count": 208,
   "metadata": {},
   "outputs": [
    {
     "data": {
      "text/plain": [
       "BUYER_COUNTY    0\n",
       "BUYER_STATE     0\n",
       "YEAR            0\n",
       "Total_Weight    0\n",
       "dtype: int64"
      ]
     },
     "execution_count": 208,
     "metadata": {},
     "output_type": "execute_result"
    }
   ],
   "source": [
    "# Drop missing counties and check again\n",
    "prescription = prescription.dropna()\n",
    "prescription.isnull().sum()"
   ]
  },
  {
   "cell_type": "code",
   "execution_count": 209,
   "metadata": {},
   "outputs": [],
   "source": [
    "# GroupBy State, county, year\n",
    "prescription = prescription.groupby(['BUYER_STATE','BUYER_COUNTY','YEAR'], as_index=False).sum()"
   ]
  },
  {
   "cell_type": "code",
   "execution_count": 216,
   "metadata": {},
   "outputs": [
    {
     "data": {
      "text/html": [
       "<div>\n",
       "<style scoped>\n",
       "    .dataframe tbody tr th:only-of-type {\n",
       "        vertical-align: middle;\n",
       "    }\n",
       "\n",
       "    .dataframe tbody tr th {\n",
       "        vertical-align: top;\n",
       "    }\n",
       "\n",
       "    .dataframe thead th {\n",
       "        text-align: right;\n",
       "    }\n",
       "</style>\n",
       "<table border=\"1\" class=\"dataframe\">\n",
       "  <thead>\n",
       "    <tr style=\"text-align: right;\">\n",
       "      <th></th>\n",
       "      <th>BUYER_STATE</th>\n",
       "      <th>BUYER_COUNTY</th>\n",
       "      <th>YEAR</th>\n",
       "      <th>Total_Weight</th>\n",
       "    </tr>\n",
       "  </thead>\n",
       "  <tbody>\n",
       "    <tr>\n",
       "      <th>0</th>\n",
       "      <td>AL</td>\n",
       "      <td>AUTAUGA</td>\n",
       "      <td>2006</td>\n",
       "      <td>17100.542225</td>\n",
       "    </tr>\n",
       "    <tr>\n",
       "      <th>1</th>\n",
       "      <td>AL</td>\n",
       "      <td>AUTAUGA</td>\n",
       "      <td>2007</td>\n",
       "      <td>19152.437289</td>\n",
       "    </tr>\n",
       "    <tr>\n",
       "      <th>2</th>\n",
       "      <td>AL</td>\n",
       "      <td>AUTAUGA</td>\n",
       "      <td>2008</td>\n",
       "      <td>21785.835290</td>\n",
       "    </tr>\n",
       "    <tr>\n",
       "      <th>3</th>\n",
       "      <td>AL</td>\n",
       "      <td>AUTAUGA</td>\n",
       "      <td>2009</td>\n",
       "      <td>24439.987693</td>\n",
       "    </tr>\n",
       "    <tr>\n",
       "      <th>4</th>\n",
       "      <td>AL</td>\n",
       "      <td>AUTAUGA</td>\n",
       "      <td>2010</td>\n",
       "      <td>26169.308158</td>\n",
       "    </tr>\n",
       "  </tbody>\n",
       "</table>\n",
       "</div>"
      ],
      "text/plain": [
       "  BUYER_STATE BUYER_COUNTY  YEAR  Total_Weight\n",
       "0          AL      AUTAUGA  2006  17100.542225\n",
       "1          AL      AUTAUGA  2007  19152.437289\n",
       "2          AL      AUTAUGA  2008  21785.835290\n",
       "3          AL      AUTAUGA  2009  24439.987693\n",
       "4          AL      AUTAUGA  2010  26169.308158"
      ]
     },
     "execution_count": 216,
     "metadata": {},
     "output_type": "execute_result"
    }
   ],
   "source": [
    "prescription.head()"
   ]
  },
  {
   "cell_type": "code",
   "execution_count": 215,
   "metadata": {},
   "outputs": [],
   "source": [
    "# Export prescription to a .csv for later use\n",
    "prescription.to_csv(r'/Users/lin-chuntseng/Desktop/2006-2012_prescription.csv', index = False, header = True)"
   ]
  }
 ],
 "metadata": {
  "kernelspec": {
   "display_name": "Python 3",
   "language": "python",
   "name": "python3"
  },
  "language_info": {
   "codemirror_mode": {
    "name": "ipython",
    "version": 3
   },
   "file_extension": ".py",
   "mimetype": "text/x-python",
   "name": "python",
   "nbconvert_exporter": "python",
   "pygments_lexer": "ipython3",
   "version": "3.8.3"
  }
 },
 "nbformat": 4,
 "nbformat_minor": 4
}
