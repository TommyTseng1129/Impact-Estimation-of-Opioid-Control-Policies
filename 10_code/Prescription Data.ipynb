{
 "cells": [
  {
   "cell_type": "code",
   "execution_count": 1,
   "metadata": {},
   "outputs": [],
   "source": [
    "# Import pandas and numpy\n",
    "\n",
    "import pandas as pd\n",
    "import numpy as np\n"
   ]
  },
  {
   "cell_type": "code",
   "execution_count": 2,
   "metadata": {},
   "outputs": [],
   "source": [
    " # Chunksize equal to 100000 (Each df's size is 100000)\n",
    "florida = pd.read_csv('/Users/lin-chuntseng/Desktop/arcos-fl-statewide-itemized.csv', chunksize = 100000 , low_memory=False)"
   ]
  },
  {
   "cell_type": "code",
   "execution_count": 3,
   "metadata": {},
   "outputs": [],
   "source": [
    "# Create ten dataframes for each year from 2006-2015\n",
    "df_2006 = pd.DataFrame()\n",
    "df_2007 = pd.DataFrame()\n",
    "df_2008 = pd.DataFrame()\n",
    "df_2009 = pd.DataFrame()\n",
    "df_2010 = pd.DataFrame()\n",
    "df_2011 = pd.DataFrame()\n",
    "df_2012 = pd.DataFrame()\n",
    "df_2013 = pd.DataFrame()\n",
    "df_2014 = pd.DataFrame()\n",
    "\n",
    "\n",
    "# Extract each year's data into corresponding dataframe\n",
    "for df in florida:\n",
    "    df_2006 = df_2006.append(df.loc[df['TRANSACTION_DATE'].astype('string').apply(lambda x: x[-4:]) == '2006', ])\n",
    "    df_2007 = df_2007.append(df.loc[df['TRANSACTION_DATE'].astype('string').apply(lambda x: x[-4:]) == '2007', ])\n",
    "    df_2008 = df_2008.append(df.loc[df['TRANSACTION_DATE'].astype('string').apply(lambda x: x[-4:]) == '2008', ])\n",
    "    df_2009 = df_2009.append(df.loc[df['TRANSACTION_DATE'].astype('string').apply(lambda x: x[-4:]) == '2009', ])\n",
    "    df_2010 = df_2010.append(df.loc[df['TRANSACTION_DATE'].astype('string').apply(lambda x: x[-4:]) == '2010', ])\n",
    "    df_2011 = df_2011.append(df.loc[df['TRANSACTION_DATE'].astype('string').apply(lambda x: x[-4:]) == '2011', ])\n",
    "    df_2012 = df_2012.append(df.loc[df['TRANSACTION_DATE'].astype('string').apply(lambda x: x[-4:]) == '2012', ])\n",
    "    df_2013 = df_2013.append(df.loc[df['TRANSACTION_DATE'].astype('string').apply(lambda x: x[-4:]) == '2013', ])\n",
    "    df_2014 = df_2014.append(df.loc[df['TRANSACTION_DATE'].astype('string').apply(lambda x: x[-4:]) == '2014', ])  "
   ]
  },
  {
   "cell_type": "code",
   "execution_count": 48,
   "metadata": {},
   "outputs": [],
   "source": [
    "# Keep necessary columns for each dataframe\n",
    "necessary_col = ['BUYER_COUNTY','BUYER_STATE', 'DRUG_NAME', 'DRUG_CODE', 'TRANSACTION_DATE','MME_Conversion_Factor', 'TRANSACTION_ID', 'DOSAGE_UNIT', 'CALC_BASE_WT_IN_GM', 'Ingredient_Name']\n",
    "\n",
    "df_2006_red = df_2006[necessary_col]\n",
    "df_2007_red = df_2007[necessary_col]\n",
    "df_2008_red = df_2008[necessary_col]\n",
    "df_2009_red = df_2009[necessary_col]\n",
    "df_2010_red = df_2010[necessary_col]\n",
    "df_2011_red = df_2011[necessary_col]\n",
    "df_2012_red = df_2012[necessary_col]\n",
    "df_2013_red = df_2013[necessary_col]\n",
    "df_2014_red = df_2014[necessary_col]"
   ]
  },
  {
   "cell_type": "code",
   "execution_count": 49,
   "metadata": {},
   "outputs": [],
   "source": [
    "# Add an extra YEAR column \n",
    "\n",
    "df_2006_red_copy = df_2006_red.copy()\n",
    "df_2006_red_copy['YEAR'] = '2006'\n",
    "\n",
    "df_2007_red_copy = df_2007_red.copy()\n",
    "df_2007_red_copy['YEAR'] = '2007'\n",
    "\n",
    "df_2008_red_copy = df_2008_red.copy()\n",
    "df_2008_red_copy['YEAR'] = '2008'\n",
    "\n",
    "df_2009_red_copy = df_2009_red.copy()\n",
    "df_2009_red_copy['YEAR'] = '2009'\n",
    "\n",
    "df_2010_red_copy = df_2010_red.copy()\n",
    "df_2010_red_copy['YEAR'] = '2010'\n",
    "\n",
    "df_2011_red_copy = df_2011_red.copy()\n",
    "df_2011_red_copy['YEAR'] = '2011'\n",
    "\n",
    "df_2012_red_copy = df_2012_red.copy()\n",
    "df_2012_red_copy['YEAR'] = '2012'\n",
    "\n",
    "df_2013_red_copy = df_2013_red.copy()\n",
    "df_2013_red_copy['YEAR'] = '2013'\n",
    "\n",
    "df_2014_red_copy = df_2014_red.copy()\n",
    "df_2014_red_copy['YEAR'] = '2014'"
   ]
  },
  {
   "cell_type": "code",
   "execution_count": 62,
   "metadata": {},
   "outputs": [
    {
     "data": {
      "text/plain": [
       "BUYER_COUNTY             9\n",
       "BUYER_STATE              0\n",
       "DRUG_NAME                0\n",
       "DRUG_CODE                0\n",
       "TRANSACTION_DATE         0\n",
       "MME_Conversion_Factor    0\n",
       "TRANSACTION_ID           0\n",
       "DOSAGE_UNIT              0\n",
       "CALC_BASE_WT_IN_GM       0\n",
       "Ingredient_Name          0\n",
       "YEAR                     0\n",
       "dtype: int64"
      ]
     },
     "execution_count": 62,
     "metadata": {},
     "output_type": "execute_result"
    }
   ],
   "source": [
    "# Checking missing values for each dataframe\n",
    "# Should we fill the np.nan with 0 or other values?\n",
    "# I will not replace np.nan with any value for now\n",
    "\n",
    "# 9 missing values for df_2006_red_copy\n",
    "df_2006_red_copy.isnull().sum()"
   ]
  },
  {
   "cell_type": "code",
   "execution_count": 51,
   "metadata": {},
   "outputs": [
    {
     "data": {
      "text/plain": [
       "BUYER_COUNTY             7\n",
       "BUYER_STATE              0\n",
       "DRUG_NAME                0\n",
       "DRUG_CODE                0\n",
       "TRANSACTION_DATE         0\n",
       "MME_Conversion_Factor    0\n",
       "TRANSACTION_ID           0\n",
       "DOSAGE_UNIT              0\n",
       "CALC_BASE_WT_IN_GM       0\n",
       "Ingredient_Name          0\n",
       "YEAR                     0\n",
       "dtype: int64"
      ]
     },
     "execution_count": 51,
     "metadata": {},
     "output_type": "execute_result"
    }
   ],
   "source": [
    "# 7 missing values for df_2007_red_copy\n",
    "df_2007_red_copy.isnull().sum()"
   ]
  },
  {
   "cell_type": "code",
   "execution_count": 52,
   "metadata": {},
   "outputs": [
    {
     "data": {
      "text/plain": [
       "BUYER_COUNTY             0\n",
       "BUYER_STATE              0\n",
       "DRUG_NAME                0\n",
       "DRUG_CODE                0\n",
       "TRANSACTION_DATE         0\n",
       "MME_Conversion_Factor    0\n",
       "TRANSACTION_ID           0\n",
       "DOSAGE_UNIT              0\n",
       "CALC_BASE_WT_IN_GM       0\n",
       "Ingredient_Name          0\n",
       "YEAR                     0\n",
       "dtype: int64"
      ]
     },
     "execution_count": 52,
     "metadata": {},
     "output_type": "execute_result"
    }
   ],
   "source": [
    "# No missing values for df_2008_red_copy\n",
    "df_2008_red_copy.isnull().sum()"
   ]
  },
  {
   "cell_type": "code",
   "execution_count": 53,
   "metadata": {},
   "outputs": [
    {
     "data": {
      "text/plain": [
       "BUYER_COUNTY             0\n",
       "BUYER_STATE              0\n",
       "DRUG_NAME                0\n",
       "DRUG_CODE                0\n",
       "TRANSACTION_DATE         0\n",
       "MME_Conversion_Factor    0\n",
       "TRANSACTION_ID           0\n",
       "DOSAGE_UNIT              0\n",
       "CALC_BASE_WT_IN_GM       0\n",
       "Ingredient_Name          0\n",
       "YEAR                     0\n",
       "dtype: int64"
      ]
     },
     "execution_count": 53,
     "metadata": {},
     "output_type": "execute_result"
    }
   ],
   "source": [
    "# No missing values for df_2009_red_copy\n",
    "df_2009_red_copy.isnull().sum()"
   ]
  },
  {
   "cell_type": "code",
   "execution_count": 54,
   "metadata": {},
   "outputs": [
    {
     "data": {
      "text/plain": [
       "BUYER_COUNTY             0\n",
       "BUYER_STATE              0\n",
       "DRUG_NAME                0\n",
       "DRUG_CODE                0\n",
       "TRANSACTION_DATE         0\n",
       "MME_Conversion_Factor    0\n",
       "TRANSACTION_ID           0\n",
       "DOSAGE_UNIT              0\n",
       "CALC_BASE_WT_IN_GM       0\n",
       "Ingredient_Name          0\n",
       "YEAR                     0\n",
       "dtype: int64"
      ]
     },
     "execution_count": 54,
     "metadata": {},
     "output_type": "execute_result"
    }
   ],
   "source": [
    "# No missing values for df_2010_red_copy\n",
    "df_2010_red_copy.isnull().sum()"
   ]
  },
  {
   "cell_type": "code",
   "execution_count": 55,
   "metadata": {},
   "outputs": [
    {
     "data": {
      "text/plain": [
       "BUYER_COUNTY             0\n",
       "BUYER_STATE              0\n",
       "DRUG_NAME                0\n",
       "DRUG_CODE                0\n",
       "TRANSACTION_DATE         0\n",
       "MME_Conversion_Factor    0\n",
       "TRANSACTION_ID           0\n",
       "DOSAGE_UNIT              0\n",
       "CALC_BASE_WT_IN_GM       0\n",
       "Ingredient_Name          0\n",
       "YEAR                     0\n",
       "dtype: int64"
      ]
     },
     "execution_count": 55,
     "metadata": {},
     "output_type": "execute_result"
    }
   ],
   "source": [
    "# No missing values for df_2011_red_copy\n",
    "df_2011_red_copy.isnull().sum()"
   ]
  },
  {
   "cell_type": "code",
   "execution_count": 56,
   "metadata": {},
   "outputs": [
    {
     "data": {
      "text/plain": [
       "BUYER_COUNTY             0\n",
       "BUYER_STATE              0\n",
       "DRUG_NAME                0\n",
       "DRUG_CODE                0\n",
       "TRANSACTION_DATE         0\n",
       "MME_Conversion_Factor    0\n",
       "TRANSACTION_ID           0\n",
       "DOSAGE_UNIT              0\n",
       "CALC_BASE_WT_IN_GM       0\n",
       "Ingredient_Name          0\n",
       "YEAR                     0\n",
       "dtype: int64"
      ]
     },
     "execution_count": 56,
     "metadata": {},
     "output_type": "execute_result"
    }
   ],
   "source": [
    "# No missing values for df_2012_red_copy\n",
    "df_2012_red_copy.isnull().sum()"
   ]
  },
  {
   "cell_type": "code",
   "execution_count": 57,
   "metadata": {},
   "outputs": [
    {
     "data": {
      "text/plain": [
       "BUYER_COUNTY             0\n",
       "BUYER_STATE              0\n",
       "DRUG_NAME                0\n",
       "DRUG_CODE                0\n",
       "TRANSACTION_DATE         0\n",
       "MME_Conversion_Factor    0\n",
       "TRANSACTION_ID           0\n",
       "DOSAGE_UNIT              0\n",
       "CALC_BASE_WT_IN_GM       0\n",
       "Ingredient_Name          0\n",
       "YEAR                     0\n",
       "dtype: int64"
      ]
     },
     "execution_count": 57,
     "metadata": {},
     "output_type": "execute_result"
    }
   ],
   "source": [
    "# No missing values for df_2013_red_copy\n",
    "df_2013_red_copy.isnull().sum()"
   ]
  },
  {
   "cell_type": "code",
   "execution_count": 58,
   "metadata": {},
   "outputs": [
    {
     "data": {
      "text/plain": [
       "BUYER_COUNTY             0\n",
       "BUYER_STATE              0\n",
       "DRUG_NAME                0\n",
       "DRUG_CODE                0\n",
       "TRANSACTION_DATE         0\n",
       "MME_Conversion_Factor    0\n",
       "TRANSACTION_ID           0\n",
       "DOSAGE_UNIT              0\n",
       "CALC_BASE_WT_IN_GM       0\n",
       "Ingredient_Name          0\n",
       "YEAR                     0\n",
       "dtype: int64"
      ]
     },
     "execution_count": 58,
     "metadata": {},
     "output_type": "execute_result"
    }
   ],
   "source": [
    "# No missing values for df_2014_red_copy\n",
    "df_2014_red_copy.isnull().sum()"
   ]
  },
  {
   "cell_type": "code",
   "execution_count": null,
   "metadata": {},
   "outputs": [],
   "source": [
    "### I won't do any groupBy on the dataframes for now so we can have more flexibility later on.\n",
    "### We can perform groupBy based on our needs later on"
   ]
  },
  {
   "cell_type": "code",
   "execution_count": 68,
   "metadata": {},
   "outputs": [],
   "source": [
    "# Export each year's dataframe as .csv\n",
    "\n",
    "df_2006_red_copy.to_csv(r'/Users/lin-chuntseng/Desktop/2006_prescription.csv', index = False, header = True)\n",
    "df_2007_red_copy.to_csv(r'/Users/lin-chuntseng/Desktop/2007_prescription.csv', index = False, header = True)\n",
    "df_2008_red_copy.to_csv(r'/Users/lin-chuntseng/Desktop/2008_prescription.csv', index = False, header = True)\n",
    "df_2009_red_copy.to_csv(r'/Users/lin-chuntseng/Desktop/2009_prescription.csv', index = False, header = True)\n",
    "df_2010_red_copy.to_csv(r'/Users/lin-chuntseng/Desktop/2010_prescription.csv', index = False, header = True)\n",
    "df_2011_red_copy.to_csv(r'/Users/lin-chuntseng/Desktop/2011_prescription.csv', index = False, header = True)\n",
    "df_2012_red_copy.to_csv(r'/Users/lin-chuntseng/Desktop/2012_prescription.csv', index = False, header = True)\n",
    "df_2013_red_copy.to_csv(r'/Users/lin-chuntseng/Desktop/2013_prescription.csv', index = False, header = True)\n",
    "df_2014_red_copy.to_csv(r'/Users/lin-chuntseng/Desktop/2014_prescription.csv', index = False, header = True)"
   ]
  },
  {
   "cell_type": "code",
   "execution_count": 76,
   "metadata": {},
   "outputs": [],
   "source": [
    "# Combine all the dataframes into one big dataframe for later use\n",
    "\n",
    "df_6to14 = pd.concat([df_2006_red_copy, df_2007_red_copy, df_2008_red_copy, df_2009_red_copy, df_2010_red_copy, df_2011_red_copy, df_2012_red_copy, df_2013_red_copy, df_2014_red_copy], ignore_index = True)\n",
    "df_6to14.to_csv(r'/Users/lin-chuntseng/Desktop/2006-2014_prescription.csv', index = False, header = True)"
   ]
  }
 ],
 "metadata": {
  "kernelspec": {
   "display_name": "Python 3",
   "language": "python",
   "name": "python3"
  },
  "language_info": {
   "codemirror_mode": {
    "name": "ipython",
    "version": 3
   },
   "file_extension": ".py",
   "mimetype": "text/x-python",
   "name": "python",
   "nbconvert_exporter": "python",
   "pygments_lexer": "ipython3",
   "version": "3.8.3"
  }
 },
 "nbformat": 4,
 "nbformat_minor": 4
}
